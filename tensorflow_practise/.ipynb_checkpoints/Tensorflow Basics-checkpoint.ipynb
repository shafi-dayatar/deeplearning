{
 "cells": [
  {
   "cell_type": "markdown",
   "metadata": {},
   "source": [
    "# What are tensors?\n",
    "\n",
    "**Tensors** is the basic and most fundamental data structure of the tensorflow which is used for computation. It is an N-dimensional collection of data, identified by rank, shape, and type.\n",
    "\n",
    "#### What is rank?\n",
    "It is a number of dimensions in a tensor. \n",
    "for example, dimension of scalar is zero i.e rank is zero, list(vector) is one , 2d matrix is 2, 3d matrix is 3, multidimenstional is n etc\n",
    "\n",
    "\n",
    "#### What is shape?\n",
    "Shape is the list denoting the size in each dimension\n",
    "What would be the shape of scalar, list(vector), 2d matrix, 3d matrix, multidimenstional\n",
    "\n",
    "#### What are types of tensors?\n",
    "\n",
    "The following DType objects are defined:\n",
    "\n",
    "1. tf.float16: 16-bit half-precision floating-point.\n",
    "2. tf.float32: 32-bit single-precision floating-point.\n",
    "3. tf.float64: 64-bit double-precision floating-point.\n",
    "4. tf.bfloat16: 16-bit truncated floating-point.\n",
    "5. tf.complex64: 64-bit single-precision complex.\n",
    "6. tf.complex128: 128-bit double-precision complex.\n",
    "7. tf.int8: 8-bit signed integer.\n",
    "8. tf.uint8: 8-bit unsigned integer.\n",
    "9. tf.uint16: 16-bit unsigned integer.\n",
    "10. tf.uint32: 32-bit unsigned integer.\n",
    "11. tf.uint64: 64-bit unsigned integer.\n",
    "12. tf.int16: 16-bit signed integer.\n",
    "13. tf.int32: 32-bit signed integer.\n",
    "14. tf.int64: 64-bit signed integer.\n",
    "15. tf.bool: Boolean.\n",
    "16. tf.string: String.\n",
    "17. tf.qint8: Quantized 8-bit signed integer.\n",
    "18. tf.quint8: Quantized 8-bit unsigned integer.\n",
    "19. tf.qint16: Quantized 16-bit signed integer. \n",
    "20. tf.quint16: Quantized 16-bit unsigned integer.\n",
    "21. tf.qint32: Quantized 32-bit signed integer.\n",
    "22. tf.resource: Handle to a mutable resource.\n",
    "23. tf.variant: Values of arbitrary types.\n",
    "In addition, variants of these types with the _ref suffix are defined for reference-typed tensors.\n",
    "\n",
    "copied from [tensorflow docs](https://www.tensorflow.org/api_docs/python/tf/DType)"
   ]
  },
  {
   "cell_type": "code",
   "execution_count": 1,
   "metadata": {},
   "outputs": [],
   "source": [
    "import tensorflow as tf"
   ]
  },
  {
   "cell_type": "markdown",
   "metadata": {},
   "source": [
    "## Constants \n",
    "Just like any other programing language, you can use constants in tensorflow too. Signature of this function is\n",
    "\n",
    "tf.constant(value, dytpe=None, shape=None, name='Const', verfiy_shape=False)\n"
   ]
  },
  {
   "cell_type": "code",
   "execution_count": 15,
   "metadata": {},
   "outputs": [],
   "source": [
    "c1 = tf.constant(5,name=\"scalar\")\n",
    "c2 = tf.constant(3,name=\"c2\")\n",
    "c3 = tf.constant([1,2,3,4], name=\"vector\")\n",
    "c4 = tf.constant(5, tf.float32, name=\"float\")"
   ]
  },
  {
   "cell_type": "code",
   "execution_count": 17,
   "metadata": {},
   "outputs": [
    {
     "name": "stdout",
     "output_type": "stream",
     "text": [
      "c1 (x) :  Tensor(\"scalar_3:0\", shape=(), dtype=int32)\n",
      "c2 (x) :  Tensor(\"c2:0\", shape=(), dtype=int32)\n",
      "c3 (x) :  Tensor(\"vector_3:0\", shape=(4,), dtype=int32)\n",
      "c4 (x) :  Tensor(\"float_2:0\", shape=(), dtype=float32)\n"
     ]
    }
   ],
   "source": [
    "print ('c1 (x) : ', c1)\n",
    "print ('c2 (x) : ', c2)\n",
    "print ('c3 (x) : ', c3)\n",
    "print ('c4 (x) : ', c4)\n",
    "\n",
    "\n",
    "##This is just defining the constants and to execute this in tensor we need to use _____!\n",
    "#yes! we need a session to execute them"
   ]
  },
  {
   "cell_type": "code",
   "execution_count": 24,
   "metadata": {},
   "outputs": [
    {
     "name": "stdout",
     "output_type": "stream",
     "text": [
      "run [c1, c2, c3, c4] :  [5, 3, array([1, 2, 3, 4], dtype=int32), 5.0]\n"
     ]
    }
   ],
   "source": [
    "tfs = tf.InteractiveSession()\n",
    "print(\"run [c1, c2, c3, c4] : \", tfs.run([c1, c2, c3, c4]))"
   ]
  },
  {
   "cell_type": "markdown",
   "metadata": {},
   "source": [
    "The basic thing of any programing language is to do operation on data, and operation can be add, sub, mul etc\n",
    "\n",
    "Tensorflow has following built-in operations which are very similiar to python and numpy:\n",
    "\n",
    "## Arithmetic Operation:\n",
    "[tf.add](https://www.tensorflow.org/api_docs/python/tf/add), \n",
    "[tf.subtract](https://www.tensorflow.org/api_docs/python/tf/subtract), \n",
    "[tf.multiply](https://www.tensorflow.org/api_docs/python/tf/multiply), \n",
    "[tf.scalar_mul](https://www.tensorflow.org/api_docs/python/tf/scalar_mul), \n",
    "[tf.div](https://www.tensorflow.org/api_docs/python/tf/div), \n",
    "[tf.divide](https://www.tensorflow.org/api_docs/python/tf/divide), \n",
    "[tf.truediv](https://www.tensorflow.org/api_docs/python/tf/truediv), \n",
    "[tf.floordiv](https://www.tensorflow.org/api_docs/python/tf/floordiv), \n",
    "[tf.realdiv](https://www.tensorflow.org/api_docs/python/tf/realdiv), \n",
    "[tf.truncatediv](https://www.tensorflow.org/api_docs/python/tf/truncatediv), \n",
    "[tf.floor_div](https://www.tensorflow.org/api_docs/python/tf/floor_div), \n",
    "[tf.truncatemod](https://www.tensorflow.org/api_docs/python/tf/truncatemod), \n",
    "[tf.floormod](https://www.tensorflow.org/api_docs/python/tf/floormod), \n",
    "[tf.mod](https://www.tensorflow.org/api_docs/python/tf/mod), \n",
    "[tf.cross](https://www.tensorflow.org/api_docs/python/tf/cross)\n",
    "\n",
    "\n",
    "## Basic Math Functions:\n",
    "\n",
    "[tf.add_n ](https://www.tensorflow.org/api_docs/python/tf/add_n),\n",
    "[tf.abs](https://www.tensorflow.org/api_docs/python/tf/abs),\n",
    "[tf.negative](https://www.tensorflow.org/api_docs/python/tf/negative),\n",
    "[tf.sign](https://www.tensorflow.org/api_docs/python/tf/sign),\n",
    "[tf.reciprocal](https://www.tensorflow.org/api_docs/python/tf/reciprocal),\n",
    "[tf.square](https://www.tensorflow.org/api_docs/python/tf/square),\n",
    "[tf.round](https://www.tensorflow.org/api_docs/python/tf/round),\n",
    "[tf.sqrt](https://www.tensorflow.org/api_docs/python/tf/sqrt),\n",
    "[tf.rsqrt](https://www.tensorflow.org/api_docs/python/tf/rsqrt),\n",
    "[tf.pow](https://www.tensorflow.org/api_docs/python/tf/pow),\n",
    "[tf.exp](https://www.tensorflow.org/api_docs/python/tf/exp),\n",
    "[tf.expm1](https://www.tensorflow.org/api_docs/python/tf/expm1),\n",
    "[tf.log](https://www.tensorflow.org/api_docs/python/tf/log),\n",
    "[tf.log1p](https://www.tensorflow.org/api_docs/python/tf/log1p),\n",
    "[tf.ceil](https://www.tensorflow.org/api_docs/python/tf/ceil),\n",
    "[tf.floor](https://www.tensorflow.org/api_docs/python/tf/floor),\n",
    "[tf.maximum](https://www.tensorflow.org/api_docs/python/tf/maximum),\n",
    "[tf.minimum](https://www.tensorflow.org/api_docs/python/tf/minimum),\n",
    "[tf.cos](https://www.tensorflow.org/api_docs/python/tf/cos),\n",
    "[tf.sin](https://www.tensorflow.org/api_docs/python/tf/sin),\n",
    "[tf.lbeta](https://www.tensorflow.org/api_docs/python/tf/lbeta),\n",
    "[tf.tan](https://www.tensorflow.org/api_docs/python/tf/tan),\n",
    "[tf.acos](https://www.tensorflow.org/api_docs/python/tf/acos),\n",
    "[tf.asin](https://www.tensorflow.org/api_docs/python/tf/asin),\n",
    "[tf.atan](https://www.tensorflow.org/api_docs/python/tf/atan),\n",
    "[tf.cosh](https://www.tensorflow.org/api_docs/python/tf/cosh),\n",
    "[tf.sinh](https://www.tensorflow.org/api_docs/python/tf/sinh),\n",
    "[tf.asinh](https://www.tensorflow.org/api_docs/python/tf/asinh),\n",
    "[tf.acosh](https://www.tensorflow.org/api_docs/python/tf/acosh),\n",
    "[tf.atanh](https://www.tensorflow.org/api_docs/python/tf/atanh),\n",
    "[tf.lgamma](https://www.tensorflow.org/api_docs/python/tf/lgamma),\n",
    "[tf.digamma](https://www.tensorflow.org/api_docs/python/tf/digamma),\n",
    "[tf.erf](https://www.tensorflow.org/api_docs/python/tf/erf),\n",
    "[tf.erfc](https://www.tensorflow.org/api_docs/python/tf/erfc),\n",
    "[tf.squared_difference](https://www.tensorflow.org/api_docs/python/tf/squared_difference),\n",
    "[tf.igamma](https://www.tensorflow.org/api_docs/python/tf/igamma),\n",
    "[tf.igammac](https://www.tensorflow.org/api_docs/python/tf/igammac),\n",
    "[tf.zeta](https://www.tensorflow.org/api_docs/python/tf/zeta),\n",
    "[tf.polygamma](https://www.tensorflow.org/api_docs/python/tf/polygamma),\n",
    "[tf.betainc](https://www.tensorflow.org/api_docs/python/tf/betainc),\n",
    "[tf.rint](https://www.tensorflow.org/api_docs/python/tf/rint)\n",
    "\n",
    "## Matrix Math Functions:\n",
    "\n",
    "[tf.diag](https://www.tensorflow.org/api_docs/python/tf/diag),\n",
    "[tf.diag_part](https://www.tensorflow.org/api_docs/python/tf/diag_part),\n",
    "[tf.trace](https://www.tensorflow.org/api_docs/python/tf/trace),\n",
    "[tf.transpose](https://www.tensorflow.org/api_docs/python/tf/transpose),\n",
    "[tf.eye](https://www.tensorflow.org/api_docs/python/tf/eye),\n",
    "[tf.matrix_diag](https://www.tensorflow.org/api_docs/python/tf/matrix_diag),\n",
    "[tf.matrix_diag_part](https://www.tensorflow.org/api_docs/python/tf/matrix_diag_part),\n",
    "[tf.matrix_band_part](https://www.tensorflow.org/api_docs/python/tf/matrix_band_part),\n",
    "[tf.matrix_set_diag](https://www.tensorflow.org/api_docs/python/tf/matrix_set_diag),\n",
    "[tf.matrix_transpose](https://www.tensorflow.org/api_docs/python/tf/matrix_transpose),\n",
    "[tf.matmul](https://www.tensorflow.org/api_docs/python/tf/matmul),\n",
    "[tf.norm](https://www.tensorflow.org/api_docs/python/tf/norm),\n",
    "[tf.matrix_determinant](https://www.tensorflow.org/api_docs/python/tf/matrix_determinant),\n",
    "[tf.matrix_inverse](https://www.tensorflow.org/api_docs/python/tf/matrix_inverse),\n",
    "[tf.cholesky](https://www.tensorflow.org/api_docs/python/tf/cholesky),\n",
    "[tf.cholesky_solve](https://www.tensorflow.org/api_docs/python/tf/cholesky_solve),\n",
    "[tf.matrix_solve](https://www.tensorflow.org/api_docs/python/tf/matrix_solve),\n",
    "[tf.matrix_triangular_solve](https://www.tensorflow.org/api_docs/python/tf/matrix_triangular_solve),\n",
    "[tf.matrix_solve_ls](https://www.tensorflow.org/api_docs/python/tf/matrix_solve_ls),\n",
    "[tf.qr](https://www.tensorflow.org/api_docs/python/tf/qr),\n",
    "[tf.self_adjoint_eig](https://www.tensorflow.org/api_docs/python/tf/self_adjoint_eig),\n",
    "[tf.self_adjoint_eigvals](https://www.tensorflow.org/api_docs/python/tf/self_adjoint_eigvals),\n",
    "[tf.svd](https://www.tensorflow.org/api_docs/python/tf/svd)\n",
    "\n",
    "## Tensor Math Operations:\n",
    "[tf.tensordot](https://www.tensorflow.org/api_docs/python/tf/tensordot)\n",
    "\n",
    "## Complex number operations:\n",
    "[tf.complex](https://www.tensorflow.org/api_docs/python/tf/complex)\n",
    "[tf.conj](https://www.tensorflow.org/api_docs/python/tf/conj)\n",
    "[tf.imag](https://www.tensorflow.org/api_docs/python/tf/imag)\n",
    "[tf.angle](https://www.tensorflow.org/api_docs/python/tf/angle)\n",
    "[tf.real](https://www.tensorflow.org/api_docs/python/tf/real)\n"
   ]
  },
  {
   "cell_type": "code",
   "execution_count": 27,
   "metadata": {},
   "outputs": [],
   "source": [
    "op1 = tf.add(c1, c2)\n",
    "op2 = tf.multiply(c1, c3)"
   ]
  },
  {
   "cell_type": "code",
   "execution_count": 28,
   "metadata": {},
   "outputs": [
    {
     "name": "stdout",
     "output_type": "stream",
     "text": [
      "op1 :  Tensor(\"Add_6:0\", shape=(), dtype=int32)\n",
      "op2 :  Tensor(\"Mul:0\", shape=(4,), dtype=int32)\n"
     ]
    }
   ],
   "source": [
    "print(\"op1 : \", op1)\n",
    "print(\"op2 : \", op2)"
   ]
  },
  {
   "cell_type": "code",
   "execution_count": 29,
   "metadata": {},
   "outputs": [
    {
     "name": "stdout",
     "output_type": "stream",
     "text": [
      "run(op1) :  8\n",
      "run(op1) :  [ 5 10 15 20]\n"
     ]
    }
   ],
   "source": [
    "print(\"run(op1) : \", tfs.run(op1))\n",
    "print(\"run(op1) : \", tfs.run(op2))"
   ]
  },
  {
   "cell_type": "markdown",
   "metadata": {},
   "source": [
    "Constants allow us to provide a value at the time of defining the tensor, the placeholders allow us to create tenors whose values can be provided at runtime.\n",
    "\n",
    "placeholder signature is :\n",
    "\n",
    "tf.placeholder( dtype, shape=None, name=None)\n",
    "\n"
   ]
  },
  {
   "cell_type": "code",
   "execution_count": 32,
   "metadata": {},
   "outputs": [
    {
     "name": "stdout",
     "output_type": "stream",
     "text": [
      "p1 :  Tensor(\"Placeholder_2:0\", dtype=float32)\n",
      "p2 :  Tensor(\"Placeholder_3:0\", dtype=float32)\n"
     ]
    }
   ],
   "source": [
    "p1 = tf.placeholder(tf.float32)\n",
    "p2 = tf.placeholder(tf.float32)\n",
    "print (\"p1 : \", p1)\n",
    "print (\"p2 : \", p2)"
   ]
  },
  {
   "cell_type": "code",
   "execution_count": 35,
   "metadata": {},
   "outputs": [
    {
     "name": "stdout",
     "output_type": "stream",
     "text": [
      "run(op3, {p1: 10.0, p2: 2.0}) :  20.0\n"
     ]
    }
   ],
   "source": [
    "op3 = p1 * p2 ## this can also be written as tf.multiply(p1, p2)\n",
    "\n",
    "print(\"run(op3, {p1: 10.0, p2: 2.0}) : \", tfs.run(op3, {p1: 10.0, p2: 2.0}))"
   ]
  },
  {
   "cell_type": "code",
   "execution_count": 36,
   "metadata": {},
   "outputs": [
    {
     "data": {
      "text/plain": [
       "<tf.Tensor 'mul_1:0' shape=<unknown> dtype=float32>"
      ]
     },
     "execution_count": 36,
     "metadata": {},
     "output_type": "execute_result"
    }
   ],
   "source": [
    "#we can also use feed_dict "
   ]
  },
  {
   "cell_type": "code",
   "execution_count": null,
   "metadata": {},
   "outputs": [],
   "source": []
  }
 ],
 "metadata": {
  "kernelspec": {
   "display_name": "Python 3",
   "language": "python",
   "name": "python3"
  },
  "language_info": {
   "codemirror_mode": {
    "name": "ipython",
    "version": 3
   },
   "file_extension": ".py",
   "mimetype": "text/x-python",
   "name": "python",
   "nbconvert_exporter": "python",
   "pygments_lexer": "ipython3",
   "version": "3.6.4"
  }
 },
 "nbformat": 4,
 "nbformat_minor": 2
}
